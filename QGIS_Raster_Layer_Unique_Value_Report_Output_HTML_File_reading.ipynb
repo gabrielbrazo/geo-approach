{
  "nbformat": 4,
  "nbformat_minor": 0,
  "metadata": {
    "colab": {
      "provenance": [],
      "authorship_tag": "ABX9TyPk9FylEJ4SP4quVzyHymcs",
      "include_colab_link": true
    },
    "kernelspec": {
      "name": "python3",
      "display_name": "Python 3"
    },
    "language_info": {
      "name": "python"
    }
  },
  "cells": [
    {
      "cell_type": "markdown",
      "metadata": {
        "id": "view-in-github",
        "colab_type": "text"
      },
      "source": [
        "<a href=\"https://colab.research.google.com/github/gabrielbrazo/geoprocessing/blob/main/QGIS_Raster_Layer_Unique_Value_Report_Output_HTML_File_reading.ipynb\" target=\"_parent\"><img src=\"https://colab.research.google.com/assets/colab-badge.svg\" alt=\"Open In Colab\"/></a>"
      ]
    },
    {
      "cell_type": "markdown",
      "source": [
        "# QGIS Raster Layer Unique Value Report\n",
        "## Working with the output html file to get the total area based on each unique value in a given raster layer\n",
        "<br>\n",
        "\n",
        "Created by [Gabriel Brazo](mailto:gbrazo@id.uff.br)<br>\n",
        "\n",
        "While working in QGIS with the manipulation of raster layers, the step in question was the need to get the slope of such layers (assuming they have already been properly reprojected into an crs that treats the data preferably in meters), group and characterize them, and finally get the total area based on these pre-defined groups. Only the process of getting the total area will be done in this notebook.<br>\n",
        "For the firsts steps of this job, the QGIS toolbox provides us a tool called Raster Layer Unique Value Report, which has as output a html file. This html file has a \"table\" of three columns:\n",
        "\n",
        "\n",
        "*   value: pixel value\n",
        "*   count: count of pixels with this value\n",
        "*   m2: total area in square meters of pixels with this value.\n",
        "\n",
        "\n",
        "With this file saved, you can import it into your python environment in the way that suits you. Since this work was done in Google Colab, the chosen method was \"gdown\". The process that takes places is the conversion of the html file into a csv one, where the columns of the html \"table\" shall be the columns of the final csv file.<br>\n",
        "Thereby, we will finally obtain the complete result. For this, we may use those pre-estabilished groups as the parameter for defining sum intervals. In this notebook we'll use as example the slope intervals of 0-3%, 3-6% and 6-12%.<br>\n",
        "\n",
        "**Finally, let's jump into the program**"
      ],
      "metadata": {
        "id": "Ze237Wtk6Xhc"
      }
    },
    {
      "cell_type": "code",
      "source": [
        "# first, we need to install the modules that do not come built-in python\n",
        "%%capture \n",
        "!pip install BeautifulSoup\n",
        "#if necessary, uncomment the code below\n",
        "#!pip install pandas"
      ],
      "metadata": {
        "id": "WKXDafqQkTvB"
      },
      "execution_count": null,
      "outputs": []
    },
    {
      "cell_type": "code",
      "source": [
        "# now, importing what is needed\n",
        "import pandas as pd\n",
        "from bs4 import BeautifulSoup\n",
        "import os\n",
        "import sys"
      ],
      "metadata": {
        "id": "BhGYL_HfldoD"
      },
      "execution_count": null,
      "outputs": []
    },
    {
      "cell_type": "code",
      "source": [
        "# building the code responsible for converting html into csv\n",
        "def go_csv(html_file):\n",
        "  path = f'{html_file}.html'\n",
        "\n",
        "  # creating an empty list\n",
        "  data = []\n",
        "\n",
        "  # to get the header from the HTML file\n",
        "  list_header = []\n",
        "  soup = BeautifulSoup(open(path, encoding=\"ISO-8859-1\"),'html.parser') # here the 'enconding=\"ISO-8859-1\" is needed because the QGIS' html file \n",
        "                                                                        # often comes with the charset=utf-8\"\n",
        "  header = soup.find_all(\"table\")[0].find(\"tr\")\n",
        "\n",
        "  for items in header:\n",
        "    try:\n",
        "      list_header.append(items.get_text())\n",
        "    except:\n",
        "      continue\n",
        "\n",
        "  # to get the data\n",
        "  HTML_data = soup.find_all(\"table\")[0].find_all(\"tr\")[1:]\n",
        "\n",
        "  for element in HTML_data:\n",
        "    sub_data = []\n",
        "    for sub_element in element:\n",
        "      try:\n",
        "        sub_data.append(sub_element.get_text())\n",
        "      except:\n",
        "        continue\n",
        "    data.append(sub_data)\n",
        "\n",
        "  # Storing the data into Pandas DataFrame\n",
        "  dataFrame = pd.DataFrame(data = data, columns = list_header)\n",
        "\n",
        "  # Converting Pandas DataFrame into CSV file\n",
        "  dataFrame.to_csv(f'{html_file}.csv')"
      ],
      "metadata": {
        "id": "btbpoK7xl3vC"
      },
      "execution_count": null,
      "outputs": []
    },
    {
      "cell_type": "code",
      "source": [
        "def raster_area(csv_file):\n",
        "  rpd = pd.read_csv(f'{csv_file}.csv')\n",
        "  # for the slope interval of 0-3%\n",
        "  area3 = rpd[rpd['Value'] <= 3]    # Note that \"Value\" may change with the setup-language of your QGIS\n",
        "                                    # In these cases you should check the column name\n",
        "\n",
        "  r_area3 = sum(area3['Area (m²)']) # Note that \"Area (m²)\" may change with the setup-language of your QGIS\n",
        "                             # In these cases you should check the column name\n",
        "  print(f'Raster Area <=3% = {r_area3:.2f} m²')\n",
        "  print(f'Raster Area <=3% = {(r_area3/1000000):.2f} km²')\n",
        "  # for the slope interval of 3-6%\n",
        "  area6 = rpd[(rpd['Value'] > 3) & (rpd['Value'] <= 6)]\n",
        "  r_area6 = sum(area6['Area (m²)'])\n",
        "  print(f'Raster Area 3-6% = {r_area6:.2f} m²')\n",
        "  print(f'Raster Area 3-6% = {(r_area6/1000000):.2f} km²')\n",
        "  # for the slope interval of 6-12%\n",
        "  area12 = rpd[(rpd['Value'] > 6) & (rpd['Value'] <= 12)]\n",
        "  r_area12 = sum(area12['Area (m²)'])\n",
        "  print(f'Raster Area 6-12% = {r_area12:.2f} m²')\n",
        "  print(f'Raster Area 6-12% = {(r_area12/1000000):.2f} km²')"
      ],
      "metadata": {
        "id": "4_WApsUhsaev"
      },
      "execution_count": null,
      "outputs": []
    },
    {
      "cell_type": "markdown",
      "source": [
        "## Reference\n",
        "<div class=\"csl-entry\"><i>Convert HTML table into CSV file in python - GeeksforGeeks</i>. (n.d.). Retrieved March 11, 2022, from https://www.geeksforgeeks.org/convert-html-table-into-csv-file-in-python/</div>\n"
      ],
      "metadata": {
        "id": "KGmnQsRrVQRa"
      }
    }
  ]
}